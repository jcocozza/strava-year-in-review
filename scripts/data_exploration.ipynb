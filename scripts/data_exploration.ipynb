{
 "cells": [
  {
   "cell_type": "markdown",
   "metadata": {},
   "source": [
    "### [Start Index, End Index] in lap_data correspond to the values time values in heart rate data"
   ]
  },
  {
   "cell_type": "code",
   "execution_count": null,
   "metadata": {},
   "outputs": [],
   "source": [
    "import sql_functions\n",
    "import get_user_activity_data\n",
    "\n",
    "# manually getting strava data\n",
    "access_token = get_user_activity_data.returning_user_access_token('f6cece2afd2ca1d77dc8f397b50cfc2ffe759849') # getting access token\n",
    "hr_data = get_user_activity_data.get_heart_rate_activity_data(8425197756, access_token)\n",
    "lap_data = get_user_activity_data.get_activity_laps(8425197756, access_token)\n",
    "print(hr_data)\n",
    "print(lap_data)"
   ]
  },
  {
   "cell_type": "code",
   "execution_count": null,
   "metadata": {},
   "outputs": [],
   "source": []
  }
 ],
 "metadata": {
  "kernelspec": {
   "display_name": "venv",
   "language": "python",
   "name": "python3"
  },
  "language_info": {
   "codemirror_mode": {
    "name": "ipython",
    "version": 3
   },
   "file_extension": ".py",
   "mimetype": "text/x-python",
   "name": "python",
   "nbconvert_exporter": "python",
   "pygments_lexer": "ipython3",
   "version": "3.10.9"
  },
  "orig_nbformat": 4,
  "vscode": {
   "interpreter": {
    "hash": "77def56d443993fc4ca1261121251dd7cb147abe7bb08d9d8a4ff39908cd655c"
   }
  }
 },
 "nbformat": 4,
 "nbformat_minor": 2
}
